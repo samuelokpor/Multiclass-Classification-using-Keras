{
 "cells": [
  {
   "cell_type": "markdown",
   "metadata": {},
   "source": [
    "## 1.1 Making new Directories"
   ]
  },
  {
   "cell_type": "code",
   "execution_count": 3,
   "metadata": {},
   "outputs": [],
   "source": [
    "import os\n",
    "import numpy as np\n",
    "import warnings"
   ]
  },
  {
   "cell_type": "code",
   "execution_count": 4,
   "metadata": {},
   "outputs": [],
   "source": [
    "warnings.filterwarnings('ignore')\n",
    "#get all the paths\n",
    "data_dir_list = os.listdir('inteva_fenlei_Images')\n"
   ]
  },
  {
   "cell_type": "code",
   "execution_count": 5,
   "metadata": {},
   "outputs": [
    {
     "data": {
      "text/plain": [
       "['ES2T_left_lagan',\n",
       " 'ES2T_left_laxian',\n",
       " 'ES2T_right_lagan',\n",
       " 'ES2T_right_laxian',\n",
       " 'ES2V_left_laxian',\n",
       " 'ES2V_right_laxian']"
      ]
     },
     "execution_count": 5,
     "metadata": {},
     "output_type": "execute_result"
    }
   ],
   "source": [
    "data_dir_list"
   ]
  },
  {
   "cell_type": "code",
   "execution_count": 17,
   "metadata": {},
   "outputs": [],
   "source": [
    "path, dirs, files = next(os.walk(\"inteva_fenlei_Images\",\"data_dir_list\"))"
   ]
  },
  {
   "cell_type": "code",
   "execution_count": 15,
   "metadata": {},
   "outputs": [
    {
     "data": {
      "text/plain": [
       "['ES2T_left_lagan',\n",
       " 'ES2T_left_laxian',\n",
       " 'ES2T_right_lagan',\n",
       " 'ES2T_right_laxian',\n",
       " 'ES2V_left_laxian',\n",
       " 'ES2V_right_laxian']"
      ]
     },
     "execution_count": 15,
     "metadata": {},
     "output_type": "execute_result"
    }
   ],
   "source": [
    "dirs"
   ]
  },
  {
   "cell_type": "code",
   "execution_count": 18,
   "metadata": {},
   "outputs": [],
   "source": [
    "file_count = len(files)"
   ]
  },
  {
   "cell_type": "code",
   "execution_count": 19,
   "metadata": {},
   "outputs": [
    {
     "data": {
      "text/plain": [
       "0"
      ]
     },
     "execution_count": 19,
     "metadata": {},
     "output_type": "execute_result"
    }
   ],
   "source": [
    "file_count"
   ]
  },
  {
   "cell_type": "code",
   "execution_count": null,
   "metadata": {},
   "outputs": [],
   "source": []
  },
  {
   "cell_type": "code",
   "execution_count": null,
   "metadata": {},
   "outputs": [],
   "source": []
  },
  {
   "cell_type": "code",
   "execution_count": null,
   "metadata": {},
   "outputs": [],
   "source": []
  },
  {
   "cell_type": "code",
   "execution_count": 21,
   "metadata": {},
   "outputs": [],
   "source": [
    "original_dataset_dir = 'inteva_fenlei_Images'\n",
    "base_dir = 'Images_dir'\n",
    "os.mkdir(base_dir)"
   ]
  },
  {
   "cell_type": "code",
   "execution_count": 23,
   "metadata": {
    "collapsed": true,
    "jupyter": {
     "outputs_hidden": true
    }
   },
   "outputs": [
    {
     "ename": "FileExistsError",
     "evalue": "[WinError 183] Cannot create a file when that file already exists: 'Images_dir\\\\train'",
     "output_type": "error",
     "traceback": [
      "\u001b[1;31m---------------------------------------------------------------------------\u001b[0m",
      "\u001b[1;31mFileExistsError\u001b[0m                           Traceback (most recent call last)",
      "\u001b[1;32m<ipython-input-23-521d4f066282>\u001b[0m in \u001b[0;36m<module>\u001b[1;34m\u001b[0m\n\u001b[0;32m      1\u001b[0m \u001b[1;31m#create two folders (train and validation)\u001b[0m\u001b[1;33m\u001b[0m\u001b[1;33m\u001b[0m\u001b[1;33m\u001b[0m\u001b[0m\n\u001b[0;32m      2\u001b[0m \u001b[0mtrain_dir\u001b[0m \u001b[1;33m=\u001b[0m \u001b[0mos\u001b[0m\u001b[1;33m.\u001b[0m\u001b[0mpath\u001b[0m\u001b[1;33m.\u001b[0m\u001b[0mjoin\u001b[0m\u001b[1;33m(\u001b[0m\u001b[0mbase_dir\u001b[0m\u001b[1;33m,\u001b[0m \u001b[1;34m'train'\u001b[0m\u001b[1;33m)\u001b[0m\u001b[1;33m\u001b[0m\u001b[1;33m\u001b[0m\u001b[0m\n\u001b[1;32m----> 3\u001b[1;33m \u001b[0mos\u001b[0m\u001b[1;33m.\u001b[0m\u001b[0mmkdir\u001b[0m\u001b[1;33m(\u001b[0m\u001b[0mtrain_dir\u001b[0m\u001b[1;33m)\u001b[0m\u001b[1;33m\u001b[0m\u001b[1;33m\u001b[0m\u001b[0m\n\u001b[0m\u001b[0;32m      4\u001b[0m \u001b[1;33m\u001b[0m\u001b[0m\n\u001b[0;32m      5\u001b[0m \u001b[0mvalidation_dir\u001b[0m \u001b[1;33m=\u001b[0m \u001b[0mos\u001b[0m\u001b[1;33m.\u001b[0m\u001b[0mpath\u001b[0m\u001b[1;33m.\u001b[0m\u001b[0mjoin\u001b[0m\u001b[1;33m(\u001b[0m\u001b[0mbase_dir\u001b[0m\u001b[1;33m,\u001b[0m \u001b[1;34m'validation'\u001b[0m\u001b[1;33m)\u001b[0m\u001b[1;33m\u001b[0m\u001b[1;33m\u001b[0m\u001b[0m\n",
      "\u001b[1;31mFileExistsError\u001b[0m: [WinError 183] Cannot create a file when that file already exists: 'Images_dir\\\\train'"
     ]
    }
   ],
   "source": [
    "#create two folders (train and validation)\n",
    "train_dir = os.path.join(base_dir, 'train')\n",
    "os.mkdir(train_dir)\n",
    "\n"
   ]
  },
  {
   "cell_type": "code",
   "execution_count": 24,
   "metadata": {},
   "outputs": [],
   "source": [
    "validation_dir = os.path.join(base_dir, 'validation')\n",
    "os.mkdir(validation_dir)"
   ]
  },
  {
   "cell_type": "code",
   "execution_count": 25,
   "metadata": {
    "jupyter": {
     "source_hidden": true
    }
   },
   "outputs": [],
   "source": [
    "train_ES2T_left_lagan_dir = os.path.join(train_dir, 'ES2T_left_lagan')\n",
    "os.mkdir(train_ES2T_left_lagan_dir)"
   ]
  },
  {
   "cell_type": "markdown",
   "metadata": {},
   "source": [
    "## Create Sub Train folders"
   ]
  },
  {
   "cell_type": "code",
   "execution_count": 26,
   "metadata": {},
   "outputs": [],
   "source": [
    "train_ES2T_left_laxian_dir = os.path.join(train_dir, 'ES2T_left_laxian')\n",
    "os.mkdir(train_ES2T_left_laxian_dir)"
   ]
  },
  {
   "cell_type": "code",
   "execution_count": 27,
   "metadata": {},
   "outputs": [],
   "source": [
    "train_ES2T_right_lagan_dir = os.path.join(train_dir, 'ES2T_right_lagan')\n",
    "os.mkdir(train_ES2T_right_lagan_dir)"
   ]
  },
  {
   "cell_type": "code",
   "execution_count": 28,
   "metadata": {},
   "outputs": [],
   "source": [
    "train_ES2T_right_laxian_dir = os.path.join(train_dir, 'ES2T_right_laxian')\n",
    "os.mkdir(train_ES2T_right_laxian_dir)"
   ]
  },
  {
   "cell_type": "code",
   "execution_count": 29,
   "metadata": {},
   "outputs": [],
   "source": [
    "train_ES2V_left_laxian_dir = os.path.join(train_dir, 'ES2V_left_laxian')\n",
    "os.mkdir(train_ES2V_left_laxian_dir)"
   ]
  },
  {
   "cell_type": "code",
   "execution_count": 31,
   "metadata": {},
   "outputs": [],
   "source": [
    "train_ES2V_right_laxian_dir = os.path.join(train_dir, 'ES2V_right_laxian')\n",
    "os.mkdir(train_ES2V_right_laxian_dir)"
   ]
  },
  {
   "cell_type": "markdown",
   "metadata": {},
   "source": [
    "## Create Sub validation folders"
   ]
  },
  {
   "cell_type": "code",
   "execution_count": 32,
   "metadata": {},
   "outputs": [],
   "source": [
    "validation_ES2T_left_lagan_dir = os.path.join(validation_dir, 'ES2T_left_lagan')\n",
    "os.mkdir(validation_ES2T_left_lagan_dir)"
   ]
  },
  {
   "cell_type": "code",
   "execution_count": 33,
   "metadata": {},
   "outputs": [],
   "source": [
    "validation_ES2T_left_laxian_dir = os.path.join(validation_dir, 'ES2T_left_laxian')\n",
    "os.mkdir(validation_ES2T_left_laxian_dir)"
   ]
  },
  {
   "cell_type": "code",
   "execution_count": 34,
   "metadata": {},
   "outputs": [],
   "source": [
    "validation_ES2T_right_lagan_dir = os.path.join(validation_dir, 'ES2T_right_lagan')\n",
    "os.mkdir(validation_ES2T_right_lagan_dir)"
   ]
  },
  {
   "cell_type": "code",
   "execution_count": 35,
   "metadata": {},
   "outputs": [],
   "source": [
    "validation_ES2T_right_laxian_dir = os.path.join(validation_dir, 'ES2T_right_laxian')\n",
    "os.mkdir(validation_ES2T_right_laxian_dir)"
   ]
  },
  {
   "cell_type": "code",
   "execution_count": 36,
   "metadata": {},
   "outputs": [],
   "source": [
    "validation_ES2V_left_laxian_dir = os.path.join(validation_dir, 'ES2V_left_laxian')\n",
    "os.mkdir(validation_ES2V_left_laxian_dir)"
   ]
  },
  {
   "cell_type": "code",
   "execution_count": 37,
   "metadata": {},
   "outputs": [],
   "source": [
    "validation_ES2V_right_laxian_dir = os.path.join(validation_dir, 'ES2V_right_laxian')\n",
    "os.mkdir(validation_ES2V_right_laxian_dir)"
   ]
  },
  {
   "cell_type": "code",
   "execution_count": null,
   "metadata": {},
   "outputs": [],
   "source": []
  },
  {
   "cell_type": "markdown",
   "metadata": {},
   "source": [
    "## Split Data"
   ]
  },
  {
   "cell_type": "code",
   "execution_count": 39,
   "metadata": {},
   "outputs": [],
   "source": [
    "def split_data(SOURCE, TRAINING, VALIDATION, SPLIT_SIZE):\n",
    "    files=[]\n",
    "    for filename in os.listdir(SOURCE):\n",
    "        file = SOURCE + filename\n",
    "        if os.path.getsize(file)> 0:\n",
    "            files.append(filename)\n",
    "        else:\n",
    "            print(filename + \"Ignored\")\n",
    "            \n",
    "    training_length = int(len(files)* SPLIT_SIZE)\n",
    "    valid_length = int(len(files) - training_length)\n",
    "    shuffled_set = random.sample(files, len(files))\n",
    "    training_set = shuffled_set[0:training_length]\n",
    "    valid_set = shuffled_set[training_length:]\n",
    "    \n",
    "    for filename in training_set:\n",
    "        this_file = SOURCE + filename\n",
    "        destination = TRAINING + filename\n",
    "        copyfile(this_file, destination)\n",
    "        \n",
    "    for filename in valid_set:\n",
    "        this_file = SOURCE + filename\n",
    "        destination = VALIDATION + filename\n",
    "        copyfile(this_file, destination)"
   ]
  },
  {
   "cell_type": "code",
   "execution_count": 55,
   "metadata": {},
   "outputs": [],
   "source": [
    "ES2T_left_lagan_SOURCE_dir = 'inteva_fenlei_Images/ES2T_left_lagan/'\n",
    "TRAINING_ES2T_left_lagan_dir = 'Images_dir/train/ES2T_left_lagan/'\n",
    "VALID_ES2T_left_lagan_dir = 'Images_dir/validation/ES2T_left_lagan/'"
   ]
  },
  {
   "cell_type": "code",
   "execution_count": 61,
   "metadata": {},
   "outputs": [],
   "source": [
    "ES2T_left_laxian_SOURCE_dir = 'inteva_fenlei_Images/ES2T_left_laxian/'\n",
    "TRAINING_ES2T_left_laxian_dir = 'Images_dir/train/ES2T_left_laxian/'\n",
    "VALID_ES2T_left_laxian_dir = 'Images_dir/validation/ES2T_left_laxian/'"
   ]
  },
  {
   "cell_type": "code",
   "execution_count": 60,
   "metadata": {},
   "outputs": [],
   "source": [
    "ES2T_right_lagan_SOURCE_dir = 'inteva_fenlei_Images/ES2T_right_lagan/'\n",
    "TRAINING_ES2T_right_lagan_dir = 'Images_dir/train/ES2T_right_lagan/'\n",
    "VALID_ES2T_right_lagan_dir = 'Images_dir/validation/ES2T_right_lagan/'"
   ]
  },
  {
   "cell_type": "code",
   "execution_count": 59,
   "metadata": {},
   "outputs": [],
   "source": [
    "ES2T_right_laxian_SOURCE_dir = 'inteva_fenlei_Images/ES2T_right_laxian/'\n",
    "TRAINING_ES2T_right_laxian_dir = 'Images_dir/train/ES2T_right_laxian/'\n",
    "VALID_ES2T_right_laxian_dir = 'Images_dir/validation/ES2T_right_laxian/'"
   ]
  },
  {
   "cell_type": "code",
   "execution_count": 58,
   "metadata": {},
   "outputs": [],
   "source": [
    "ES2V_left_laxian_SOURCE_dir = 'inteva_fenlei_Images/ES2V_left_laxian/'\n",
    "TRAINING_ES2V_left_laxian_dir = 'Images_dir/train/ES2V_left_laxian/'\n",
    "VALID_ES2V_left_laxian_dir = 'Images_dir/validation/ES2V_left_laxian/'"
   ]
  },
  {
   "cell_type": "code",
   "execution_count": 57,
   "metadata": {},
   "outputs": [],
   "source": [
    "ES2V_right_laxian_SOURCE_dir = 'inteva_fenlei_Images/ES2V_right_laxian/'\n",
    "TRAINING_ES2V_right_laxian_dir = 'Images_dir/train/ES2V_right_laxian/'\n",
    "VALID_ES2V_right_laxian_dir = 'Images_dir/validation/ES2V_right_laxian/'"
   ]
  },
  {
   "cell_type": "code",
   "execution_count": 51,
   "metadata": {},
   "outputs": [],
   "source": [
    "import random\n",
    "from shutil import copyfile"
   ]
  },
  {
   "cell_type": "code",
   "execution_count": 52,
   "metadata": {},
   "outputs": [],
   "source": [
    "split_size = 0.85"
   ]
  },
  {
   "cell_type": "code",
   "execution_count": 56,
   "metadata": {},
   "outputs": [],
   "source": [
    "split_data(ES2T_left_lagan_SOURCE_dir,TRAINING_ES2T_left_lagan_dir,VALID_ES2T_left_lagan_dir,split_size )"
   ]
  },
  {
   "cell_type": "code",
   "execution_count": 62,
   "metadata": {},
   "outputs": [],
   "source": [
    "split_data(ES2T_left_laxian_SOURCE_dir,TRAINING_ES2T_left_laxian_dir,VALID_ES2T_left_laxian_dir,split_size)"
   ]
  },
  {
   "cell_type": "code",
   "execution_count": 63,
   "metadata": {},
   "outputs": [],
   "source": [
    "split_data(ES2T_right_lagan_SOURCE_dir,TRAINING_ES2T_right_lagan_dir,VALID_ES2T_right_lagan_dir,split_size)"
   ]
  },
  {
   "cell_type": "code",
   "execution_count": 64,
   "metadata": {},
   "outputs": [],
   "source": [
    "split_data(ES2T_right_laxian_SOURCE_dir,TRAINING_ES2T_right_laxian_dir,VALID_ES2T_right_laxian_dir,split_size)"
   ]
  },
  {
   "cell_type": "code",
   "execution_count": 65,
   "metadata": {},
   "outputs": [],
   "source": [
    "split_data(ES2V_left_laxian_SOURCE_dir,TRAINING_ES2V_left_laxian_dir,VALID_ES2V_left_laxian_dir,split_size)"
   ]
  },
  {
   "cell_type": "code",
   "execution_count": 66,
   "metadata": {},
   "outputs": [],
   "source": [
    "split_data(ES2V_right_laxian_SOURCE_dir,TRAINING_ES2V_right_laxian_dir,VALID_ES2V_right_laxian_dir,split_size)"
   ]
  },
  {
   "cell_type": "markdown",
   "metadata": {},
   "source": [
    "## Visualize Data"
   ]
  },
  {
   "cell_type": "code",
   "execution_count": 67,
   "metadata": {},
   "outputs": [],
   "source": [
    "import matplotlib.pyplot as plt\n",
    "import seaborn as sns\n",
    "from matplotlib.image import imread\n",
    "import pathlib"
   ]
  },
  {
   "cell_type": "code",
   "execution_count": 71,
   "metadata": {},
   "outputs": [],
   "source": [
    "image_folder = ['ES2T_left_lagan','ES2T_left_laxian','ES2T_right_lagan','ES2T_right_laxian','ES2V_left_laxian','ES2V_right_laxian']"
   ]
  },
  {
   "cell_type": "code",
   "execution_count": 72,
   "metadata": {},
   "outputs": [],
   "source": [
    "nimgs={}"
   ]
  },
  {
   "cell_type": "code",
   "execution_count": 74,
   "metadata": {},
   "outputs": [
    {
     "data": {
      "image/png": "[encoded data removed]",
      "text/plain": [
       "<Figure size 864x864 with 1 Axes>"
      ]
     },
     "metadata": {
      "needs_background": "light"
     },
     "output_type": "display_data"
    }
   ],
   "source": [
    "for i in image_folder:\n",
    "    nimages = len(os.listdir('Images_dir/train/'+i+'/'))\n",
    "    nimgs[i]=nimages\n",
    "    \n",
    "plt.figure(figsize=(12,12))\n",
    "plt.bar(range(len(nimgs)),list(nimgs.values()), align='center')\n",
    "plt.xticks(range(len(nimgs)), list(nimgs.keys()))\n",
    "plt.title('Distribution of different classes in Training Dataset')\n",
    "plt.show()"
   ]
  },
  {
   "cell_type": "code",
   "execution_count": 75,
   "metadata": {},
   "outputs": [
    {
     "name": "stdout",
     "output_type": "stream",
     "text": [
      "Training ES2T_left_lagan images are: 88\n",
      "Training ES2T_left_laxian images are: 111\n",
      "Training ES2T_right_lagan images are: 88\n",
      "Training ES2T_right_laxian images are: 88\n",
      "Training ES2V_left_laxian images are: 90\n",
      "Training ES2V_right_laxian images are: 85\n"
     ]
    }
   ],
   "source": [
    "for i in ['ES2T_left_lagan','ES2T_left_laxian','ES2T_right_lagan','ES2T_right_laxian','ES2V_left_laxian','ES2V_right_laxian']:\n",
    "    print('Training {} images are: '. format(i)+str(len(os.listdir('Images_dir/train/'+i+'/'))))"
   ]
  },
  {
   "cell_type": "code",
   "execution_count": 76,
   "metadata": {},
   "outputs": [
    {
     "data": {
      "image/png": "[encoded data removed]",
      "text/plain": [
       "<Figure size 864x864 with 1 Axes>"
      ]
     },
     "metadata": {
      "needs_background": "light"
     },
     "output_type": "display_data"
    }
   ],
   "source": [
    "for i in image_folder:\n",
    "    nimages = len(os.listdir('Images_dir/validation/'+i+'/'))\n",
    "    nimgs[i]=nimages\n",
    "    \n",
    "plt.figure(figsize=(12,12))\n",
    "plt.bar(range(len(nimgs)),list(nimgs.values()), align='center')\n",
    "plt.xticks(range(len(nimgs)), list(nimgs.keys()))\n",
    "plt.title('Distribution of different classes in Validation Dataset')\n",
    "plt.show()"
   ]
  },
  {
   "cell_type": "code",
   "execution_count": 77,
   "metadata": {},
   "outputs": [
    {
     "name": "stdout",
     "output_type": "stream",
     "text": [
      "Training ES2T_left_lagan images are: 16\n",
      "Training ES2T_left_laxian images are: 20\n",
      "Training ES2T_right_lagan images are: 16\n",
      "Training ES2T_right_laxian images are: 16\n",
      "Training ES2V_left_laxian images are: 17\n",
      "Training ES2V_right_laxian images are: 15\n"
     ]
    }
   ],
   "source": [
    "for i in ['ES2T_left_lagan','ES2T_left_laxian','ES2T_right_lagan','ES2T_right_laxian','ES2V_left_laxian','ES2V_right_laxian']:\n",
    "    print('Training {} images are: '. format(i)+str(len(os.listdir('Images_dir/validation/'+i+'/'))))"
   ]
  },
  {
   "cell_type": "markdown",
   "metadata": {},
   "source": [
    "## Creating Deep Learning Model and Data Augmentation"
   ]
  },
  {
   "cell_type": "code",
   "execution_count": 78,
   "metadata": {},
   "outputs": [],
   "source": [
    "from tensorflow.keras.optimizers import Adam\n",
    "from tensorflow.keras.preprocessing.image import ImageDataGenerator\n",
    "from tensorflow.keras.layers import Conv2D, MaxPooling2D, Flatten, Dense, Dropout\n",
    "from tensorflow.keras.models import Sequential\n",
    "from tensorflow.keras.callbacks import EarlyStopping, ModelCheckpoint"
   ]
  },
  {
   "cell_type": "code",
   "execution_count": 79,
   "metadata": {},
   "outputs": [],
   "source": [
    "img_width=256; img_height=256\n",
    "batch_size=16"
   ]
  },
  {
   "cell_type": "code",
   "execution_count": 80,
   "metadata": {},
   "outputs": [],
   "source": [
    "TRAINING_DIR = 'Images_dir/train/'"
   ]
  },
  {
   "cell_type": "code",
   "execution_count": 81,
   "metadata": {},
   "outputs": [],
   "source": [
    "train_datagen = ImageDataGenerator(rescale = 1/255.0,\n",
    "                                  rotation_range=30,\n",
    "                                  zoom_range=0.4,\n",
    "                                  horizontal_flip=True)\n"
   ]
  },
  {
   "cell_type": "code",
   "execution_count": 82,
   "metadata": {},
   "outputs": [
    {
     "name": "stdout",
     "output_type": "stream",
     "text": [
      "Found 550 images belonging to 6 classes.\n"
     ]
    }
   ],
   "source": [
    "train_generator = train_datagen.flow_from_directory(TRAINING_DIR,\n",
    "                                                   batch_size=batch_size,\n",
    "                                                   class_mode='categorical',\n",
    "                                                   target_size=(img_height, img_width))"
   ]
  },
  {
   "cell_type": "code",
   "execution_count": 83,
   "metadata": {},
   "outputs": [
    {
     "name": "stdout",
     "output_type": "stream",
     "text": [
      "Found 100 images belonging to 6 classes.\n"
     ]
    }
   ],
   "source": [
    "VALIDATION_DIR = 'Images_dir/validation/'\n",
    "\n",
    "validation_datagen = ImageDataGenerator(rescale = 1/255.0)\n",
    "\n",
    "validation_generator = validation_datagen.flow_from_directory(VALIDATION_DIR,\n",
    "                                                             batch_size=batch_size,\n",
    "                                                             class_mode='categorical',\n",
    "                                                             target_size=(img_height, img_width))"
   ]
  },
  {
   "cell_type": "code",
   "execution_count": 84,
   "metadata": {},
   "outputs": [],
   "source": [
    "callbacks  = EarlyStopping(monitor='val_loss', patience=5, verbose=1, mode='auto')\n",
    "#auto save best Model\n",
    "best_model_file = './CNN_aug_best_weights.h5'\n",
    "best_model = ModelCheckpoint(best_model_file, monitor='val_acc', verbose=1, save_best_only= True)"
   ]
  },
  {
   "cell_type": "code",
   "execution_count": 91,
   "metadata": {},
   "outputs": [],
   "source": [
    "model = Sequential([\n",
    "    Conv2D(16, (3,3), activation='relu', input_shape=(img_height, img_width, 3)), MaxPooling2D(2,2),\n",
    "    Conv2D(32, (3,3), activation='relu'), MaxPooling2D(2,2),\n",
    "    Conv2D(64, (3,3), activation='relu'),\n",
    "    Conv2D(64, (3,3), activation='relu'),\n",
    "    MaxPooling2D(2,2),\n",
    "    Conv2D(128, (3,3), activation='relu'),\n",
    "    Conv2D(128, (3,3), activation='relu'),\n",
    "    MaxPooling2D(2,2),\n",
    "    Conv2D(256, (3,3), activation='relu'),\n",
    "    Conv2D(256, (3,3), activation='relu'),\n",
    "    Conv2D(256, (3,3), activation='relu'),\n",
    "    MaxPooling2D(2,2),\n",
    "    Flatten(),\n",
    "    Dense(512, activation='relu'),\n",
    "    Dense(512, activation='relu'),\n",
    "    Dense(6, activation='softmax')\n",
    "])"
   ]
  },
  {
   "cell_type": "code",
   "execution_count": 86,
   "metadata": {},
   "outputs": [],
   "source": [
    "model.add(Conv2D(64, kernel_size=(3,3), padding=\"same\", activation=\"relu\", input_shape=(img_height, img_width, 3)))\n",
    "model.add(Conv2D(64, kernel_size=(3,3), padding=\"same\", activation=\"relu\"))\n",
    "model.add(MaxPooling2D((2,2), strides=(2,2)))\n",
    "\n",
    "#add feauture maps to see what model sees at this point\n",
    "\n",
    "#block 2\n",
    "model.add(Conv2D(128, kernel_size=(3,3), padding=\"same\", activation=\"relu\"))\n",
    "model.add(Conv2D(128, kernel_size=(3,3), padding=\"same\", activation=\"relu\"))\n",
    "model.add(MaxPooling2D((2,2), strides=(2,2)))\n",
    "\n",
    "#BLock 3\n",
    "model.add(Conv2D(256, kernel_size=(3,3), padding=\"same\", activation=\"relu\"))\n",
    "model.add(Conv2D(256, kernel_size=(3,3), padding=\"same\", activation=\"relu\"))\n",
    "model.add(Conv2D(256, kernel_size=(3,3), padding=\"same\", activation=\"relu\"))\n",
    "model.add(MaxPooling2D((2,2), strides=(2,2)))\n",
    "\n",
    "#Block 4\n",
    "model.add(Conv2D(512, kernel_size=(3,3), padding=\"same\", activation=\"relu\"))\n",
    "model.add(Conv2D(512, kernel_size=(3,3), padding=\"same\", activation=\"relu\"))\n",
    "model.add(Conv2D(512, kernel_size=(3,3), padding=\"same\", activation=\"relu\"))\n",
    "model.add(MaxPooling2D((2,2), strides=(2,2)))\n",
    "\n",
    "#block 5\n",
    "model.add(Conv2D(512, kernel_size=(3,3), padding=\"same\", activation=\"relu\"))\n",
    "model.add(Conv2D(512, kernel_size=(3,3), padding=\"same\", activation=\"relu\"))\n",
    "model.add(Conv2D(512, kernel_size=(3,3), padding=\"same\", activation=\"relu\"))\n",
    "model.add(MaxPooling2D((2,2), strides=(2,2)))\n",
    "\n",
    "#Top\n",
    "model.add(Flatten())\n",
    "model.add(Dense(4096, activation=\"relu\"))\n",
    "model.add(Dense(4096, activation=\"relu\"))\n",
    "model.add(Dense(6, activation=\"softmax\"))\n"
   ]
  },
  {
   "cell_type": "code",
   "execution_count": 92,
   "metadata": {},
   "outputs": [
    {
     "name": "stdout",
     "output_type": "stream",
     "text": [
      "Model: \"sequential_2\"\n",
      "_________________________________________________________________\n",
      " Layer (type)                Output Shape              Param #   \n",
      "=================================================================\n",
      " conv2d_22 (Conv2D)          (None, 254, 254, 16)      448       \n",
      "                                                                 \n",
      " max_pooling2d_10 (MaxPoolin  (None, 127, 127, 16)     0         \n",
      " g2D)                                                            \n",
      "                                                                 \n",
      " conv2d_23 (Conv2D)          (None, 125, 125, 32)      4640      \n",
      "                                                                 \n",
      " max_pooling2d_11 (MaxPoolin  (None, 62, 62, 32)       0         \n",
      " g2D)                                                            \n",
      "                                                                 \n",
      " conv2d_24 (Conv2D)          (None, 60, 60, 64)        18496     \n",
      "                                                                 \n",
      " conv2d_25 (Conv2D)          (None, 58, 58, 64)        36928     \n",
      "                                                                 \n",
      " max_pooling2d_12 (MaxPoolin  (None, 29, 29, 64)       0         \n",
      " g2D)                                                            \n",
      "                                                                 \n",
      " conv2d_26 (Conv2D)          (None, 27, 27, 128)       73856     \n",
      "                                                                 \n",
      " conv2d_27 (Conv2D)          (None, 25, 25, 128)       147584    \n",
      "                                                                 \n",
      " max_pooling2d_13 (MaxPoolin  (None, 12, 12, 128)      0         \n",
      " g2D)                                                            \n",
      "                                                                 \n",
      " conv2d_28 (Conv2D)          (None, 10, 10, 256)       295168    \n",
      "                                                                 \n",
      " conv2d_29 (Conv2D)          (None, 8, 8, 256)         590080    \n",
      "                                                                 \n",
      " conv2d_30 (Conv2D)          (None, 6, 6, 256)         590080    \n",
      "                                                                 \n",
      " max_pooling2d_14 (MaxPoolin  (None, 3, 3, 256)        0         \n",
      " g2D)                                                            \n",
      "                                                                 \n",
      " flatten_2 (Flatten)         (None, 2304)              0         \n",
      "                                                                 \n",
      " dense_6 (Dense)             (None, 512)               1180160   \n",
      "                                                                 \n",
      " dense_7 (Dense)             (None, 512)               262656    \n",
      "                                                                 \n",
      " dense_8 (Dense)             (None, 6)                 3078      \n",
      "                                                                 \n",
      "=================================================================\n",
      "Total params: 3,203,174\n",
      "Trainable params: 3,203,174\n",
      "Non-trainable params: 0\n",
      "_________________________________________________________________\n"
     ]
    }
   ],
   "source": [
    "model.summary()"
   ]
  },
  {
   "cell_type": "code",
   "execution_count": 93,
   "metadata": {},
   "outputs": [],
   "source": [
    "model.compile(optimizer='Adam',\n",
    "             loss='categorical_crossentropy',\n",
    "             metrics=['accuracy'])"
   ]
  },
  {
   "cell_type": "code",
   "execution_count": 94,
   "metadata": {},
   "outputs": [
    {
     "name": "stdout",
     "output_type": "stream",
     "text": [
      "Epoch 1/40\n",
      "35/35 [==============================] - ETA: 0s - loss: 1.6441 - accuracy: 0.2564WARNING:tensorflow:Can save best model only with val_acc available, skipping.\n",
      "35/35 [==============================] - 10s 245ms/step - loss: 1.6441 - accuracy: 0.2564 - val_loss: 1.5594 - val_accuracy: 0.3300\n",
      "Epoch 2/40\n",
      "35/35 [==============================] - ETA: 0s - loss: 1.2103 - accuracy: 0.4345WARNING:tensorflow:Can save best model only with val_acc available, skipping.\n",
      "35/35 [==============================] - 8s 230ms/step - loss: 1.2103 - accuracy: 0.4345 - val_loss: 0.9527 - val_accuracy: 0.6500\n",
      "Epoch 3/40\n",
      "35/35 [==============================] - ETA: 0s - loss: 1.1481 - accuracy: 0.4800WARNING:tensorflow:Can save best model only with val_acc available, skipping.\n",
      "35/35 [==============================] - 8s 229ms/step - loss: 1.1481 - accuracy: 0.4800 - val_loss: 0.9512 - val_accuracy: 0.6300\n",
      "Epoch 4/40\n",
      "35/35 [==============================] - ETA: 0s - loss: 0.9620 - accuracy: 0.5782WARNING:tensorflow:Can save best model only with val_acc available, skipping.\n",
      "35/35 [==============================] - 8s 226ms/step - loss: 0.9620 - accuracy: 0.5782 - val_loss: 0.5517 - val_accuracy: 0.7900\n",
      "Epoch 5/40\n",
      "35/35 [==============================] - ETA: 0s - loss: 0.8474 - accuracy: 0.6600WARNING:tensorflow:Can save best model only with val_acc available, skipping.\n",
      "35/35 [==============================] - 8s 224ms/step - loss: 0.8474 - accuracy: 0.6600 - val_loss: 0.5746 - val_accuracy: 0.8300\n",
      "Epoch 6/40\n",
      "35/35 [==============================] - ETA: 0s - loss: 0.6593 - accuracy: 0.7291WARNING:tensorflow:Can save best model only with val_acc available, skipping.\n",
      "35/35 [==============================] - 8s 228ms/step - loss: 0.6593 - accuracy: 0.7291 - val_loss: 0.7236 - val_accuracy: 0.6700\n",
      "Epoch 7/40\n",
      "35/35 [==============================] - ETA: 0s - loss: 0.5235 - accuracy: 0.7927WARNING:tensorflow:Can save best model only with val_acc available, skipping.\n",
      "35/35 [==============================] - 8s 226ms/step - loss: 0.5235 - accuracy: 0.7927 - val_loss: 0.3365 - val_accuracy: 0.8600\n",
      "Epoch 8/40\n",
      "35/35 [==============================] - ETA: 0s - loss: 0.5814 - accuracy: 0.7582WARNING:tensorflow:Can save best model only with val_acc available, skipping.\n",
      "35/35 [==============================] - 8s 228ms/step - loss: 0.5814 - accuracy: 0.7582 - val_loss: 0.5330 - val_accuracy: 0.7800\n",
      "Epoch 9/40\n",
      "35/35 [==============================] - ETA: 0s - loss: 0.3809 - accuracy: 0.8691WARNING:tensorflow:Can save best model only with val_acc available, skipping.\n",
      "35/35 [==============================] - 8s 226ms/step - loss: 0.3809 - accuracy: 0.8691 - val_loss: 0.3606 - val_accuracy: 0.8800\n",
      "Epoch 10/40\n",
      "35/35 [==============================] - ETA: 0s - loss: 0.4198 - accuracy: 0.8400WARNING:tensorflow:Can save best model only with val_acc available, skipping.\n",
      "35/35 [==============================] - 8s 238ms/step - loss: 0.4198 - accuracy: 0.8400 - val_loss: 0.2692 - val_accuracy: 0.9000\n",
      "Epoch 11/40\n",
      "35/35 [==============================] - ETA: 0s - loss: 0.3804 - accuracy: 0.8436WARNING:tensorflow:Can save best model only with val_acc available, skipping.\n",
      "35/35 [==============================] - 8s 226ms/step - loss: 0.3804 - accuracy: 0.8436 - val_loss: 0.3351 - val_accuracy: 0.9300\n",
      "Epoch 12/40\n",
      "35/35 [==============================] - ETA: 0s - loss: 0.2928 - accuracy: 0.8855WARNING:tensorflow:Can save best model only with val_acc available, skipping.\n",
      "35/35 [==============================] - 8s 225ms/step - loss: 0.2928 - accuracy: 0.8855 - val_loss: 0.1896 - val_accuracy: 0.9200\n",
      "Epoch 13/40\n",
      "35/35 [==============================] - ETA: 0s - loss: 0.4404 - accuracy: 0.8418WARNING:tensorflow:Can save best model only with val_acc available, skipping.\n",
      "35/35 [==============================] - 8s 227ms/step - loss: 0.4404 - accuracy: 0.8418 - val_loss: 0.2009 - val_accuracy: 0.9200\n",
      "Epoch 14/40\n",
      "35/35 [==============================] - ETA: 0s - loss: 0.2808 - accuracy: 0.9218WARNING:tensorflow:Can save best model only with val_acc available, skipping.\n",
      "35/35 [==============================] - 8s 226ms/step - loss: 0.2808 - accuracy: 0.9218 - val_loss: 0.0204 - val_accuracy: 0.9900\n",
      "Epoch 15/40\n",
      "35/35 [==============================] - ETA: 0s - loss: 0.4639 - accuracy: 0.8345WARNING:tensorflow:Can save best model only with val_acc available, skipping.\n",
      "35/35 [==============================] - 8s 227ms/step - loss: 0.4639 - accuracy: 0.8345 - val_loss: 0.1043 - val_accuracy: 0.9500\n",
      "Epoch 16/40\n",
      "35/35 [==============================] - ETA: 0s - loss: 0.1879 - accuracy: 0.9255WARNING:tensorflow:Can save best model only with val_acc available, skipping.\n",
      "35/35 [==============================] - 8s 225ms/step - loss: 0.1879 - accuracy: 0.9255 - val_loss: 0.0620 - val_accuracy: 0.9700\n",
      "Epoch 17/40\n",
      "35/35 [==============================] - ETA: 0s - loss: 0.2311 - accuracy: 0.9073WARNING:tensorflow:Can save best model only with val_acc available, skipping.\n",
      "35/35 [==============================] - 8s 228ms/step - loss: 0.2311 - accuracy: 0.9073 - val_loss: 0.0801 - val_accuracy: 0.9800\n",
      "Epoch 18/40\n",
      "35/35 [==============================] - ETA: 0s - loss: 0.4099 - accuracy: 0.8600WARNING:tensorflow:Can save best model only with val_acc available, skipping.\n",
      "35/35 [==============================] - 8s 231ms/step - loss: 0.4099 - accuracy: 0.8600 - val_loss: 0.8917 - val_accuracy: 0.7500\n",
      "Epoch 19/40\n",
      "35/35 [==============================] - ETA: 0s - loss: 0.3595 - accuracy: 0.8527WARNING:tensorflow:Can save best model only with val_acc available, skipping.\n",
      "35/35 [==============================] - 8s 225ms/step - loss: 0.3595 - accuracy: 0.8527 - val_loss: 0.3368 - val_accuracy: 0.8900\n",
      "Epoch 20/40\n",
      "35/35 [==============================] - ETA: 0s - loss: 0.3400 - accuracy: 0.8964WARNING:tensorflow:Can save best model only with val_acc available, skipping.\n",
      "35/35 [==============================] - 8s 228ms/step - loss: 0.3400 - accuracy: 0.8964 - val_loss: 0.6208 - val_accuracy: 0.7200\n",
      "Epoch 21/40\n",
      "35/35 [==============================] - ETA: 0s - loss: 0.3456 - accuracy: 0.8455WARNING:tensorflow:Can save best model only with val_acc available, skipping.\n",
      "35/35 [==============================] - 8s 226ms/step - loss: 0.3456 - accuracy: 0.8455 - val_loss: 0.2332 - val_accuracy: 0.9000\n",
      "Epoch 22/40\n",
      "35/35 [==============================] - ETA: 0s - loss: 0.2554 - accuracy: 0.9036WARNING:tensorflow:Can save best model only with val_acc available, skipping.\n",
      "35/35 [==============================] - 8s 229ms/step - loss: 0.2554 - accuracy: 0.9036 - val_loss: 0.2168 - val_accuracy: 0.9200\n",
      "Epoch 23/40\n",
      "35/35 [==============================] - ETA: 0s - loss: 0.2647 - accuracy: 0.8818WARNING:tensorflow:Can save best model only with val_acc available, skipping.\n",
      "35/35 [==============================] - 8s 226ms/step - loss: 0.2647 - accuracy: 0.8818 - val_loss: 0.1101 - val_accuracy: 0.9400\n",
      "Epoch 24/40\n",
      "35/35 [==============================] - ETA: 0s - loss: 0.2333 - accuracy: 0.9000WARNING:tensorflow:Can save best model only with val_acc available, skipping.\n",
      "35/35 [==============================] - 8s 225ms/step - loss: 0.2333 - accuracy: 0.9000 - val_loss: 0.1524 - val_accuracy: 0.9200\n",
      "Epoch 25/40\n",
      "35/35 [==============================] - ETA: 0s - loss: 0.2458 - accuracy: 0.8873WARNING:tensorflow:Can save best model only with val_acc available, skipping.\n",
      "35/35 [==============================] - 8s 232ms/step - loss: 0.2458 - accuracy: 0.8873 - val_loss: 0.2574 - val_accuracy: 0.9400\n",
      "Epoch 26/40\n",
      "35/35 [==============================] - ETA: 0s - loss: 0.3952 - accuracy: 0.8564WARNING:tensorflow:Can save best model only with val_acc available, skipping.\n",
      "35/35 [==============================] - 8s 225ms/step - loss: 0.3952 - accuracy: 0.8564 - val_loss: 0.2172 - val_accuracy: 0.9200\n",
      "Epoch 27/40\n",
      "35/35 [==============================] - ETA: 0s - loss: 0.2735 - accuracy: 0.8982WARNING:tensorflow:Can save best model only with val_acc available, skipping.\n",
      "35/35 [==============================] - 8s 227ms/step - loss: 0.2735 - accuracy: 0.8982 - val_loss: 0.1524 - val_accuracy: 0.9300\n",
      "Epoch 28/40\n",
      "35/35 [==============================] - ETA: 0s - loss: 0.2044 - accuracy: 0.9291WARNING:tensorflow:Can save best model only with val_acc available, skipping.\n",
      "35/35 [==============================] - 8s 227ms/step - loss: 0.2044 - accuracy: 0.9291 - val_loss: 0.4436 - val_accuracy: 0.8500\n",
      "Epoch 29/40\n",
      "35/35 [==============================] - ETA: 0s - loss: 0.2982 - accuracy: 0.9000WARNING:tensorflow:Can save best model only with val_acc available, skipping.\n",
      "35/35 [==============================] - 8s 227ms/step - loss: 0.2982 - accuracy: 0.9000 - val_loss: 0.1657 - val_accuracy: 0.9400\n",
      "Epoch 30/40\n",
      "35/35 [==============================] - ETA: 0s - loss: 0.2017 - accuracy: 0.9200WARNING:tensorflow:Can save best model only with val_acc available, skipping.\n",
      "35/35 [==============================] - 8s 229ms/step - loss: 0.2017 - accuracy: 0.9200 - val_loss: 0.0790 - val_accuracy: 0.9800\n",
      "Epoch 31/40\n",
      "35/35 [==============================] - ETA: 0s - loss: 0.1408 - accuracy: 0.9582WARNING:tensorflow:Can save best model only with val_acc available, skipping.\n",
      "35/35 [==============================] - 8s 225ms/step - loss: 0.1408 - accuracy: 0.9582 - val_loss: 0.1196 - val_accuracy: 0.9800\n",
      "Epoch 32/40\n",
      "35/35 [==============================] - ETA: 0s - loss: 0.2041 - accuracy: 0.9273WARNING:tensorflow:Can save best model only with val_acc available, skipping.\n",
      "35/35 [==============================] - 8s 227ms/step - loss: 0.2041 - accuracy: 0.9273 - val_loss: 0.0142 - val_accuracy: 1.0000\n",
      "Epoch 33/40\n",
      "35/35 [==============================] - ETA: 0s - loss: 0.1333 - accuracy: 0.9418WARNING:tensorflow:Can save best model only with val_acc available, skipping.\n",
      "35/35 [==============================] - 8s 228ms/step - loss: 0.1333 - accuracy: 0.9418 - val_loss: 0.1460 - val_accuracy: 0.9100\n",
      "Epoch 34/40\n",
      "35/35 [==============================] - ETA: 0s - loss: 0.1142 - accuracy: 0.9600WARNING:tensorflow:Can save best model only with val_acc available, skipping.\n",
      "35/35 [==============================] - 8s 225ms/step - loss: 0.1142 - accuracy: 0.9600 - val_loss: 0.4087 - val_accuracy: 0.9800\n",
      "Epoch 35/40\n",
      "35/35 [==============================] - ETA: 0s - loss: 0.1654 - accuracy: 0.9527WARNING:tensorflow:Can save best model only with val_acc available, skipping.\n",
      "35/35 [==============================] - 8s 228ms/step - loss: 0.1654 - accuracy: 0.9527 - val_loss: 0.1313 - val_accuracy: 0.9300\n",
      "Epoch 36/40\n",
      "35/35 [==============================] - ETA: 0s - loss: 0.1695 - accuracy: 0.9400WARNING:tensorflow:Can save best model only with val_acc available, skipping.\n",
      "35/35 [==============================] - 8s 225ms/step - loss: 0.1695 - accuracy: 0.9400 - val_loss: 0.0728 - val_accuracy: 0.9900\n",
      "Epoch 37/40\n",
      "35/35 [==============================] - ETA: 0s - loss: 0.1551 - accuracy: 0.9418WARNING:tensorflow:Can save best model only with val_acc available, skipping.\n",
      "35/35 [==============================] - 8s 228ms/step - loss: 0.1551 - accuracy: 0.9418 - val_loss: 0.0098 - val_accuracy: 1.0000\n",
      "Epoch 38/40\n",
      "35/35 [==============================] - ETA: 0s - loss: 0.1669 - accuracy: 0.9436WARNING:tensorflow:Can save best model only with val_acc available, skipping.\n",
      "35/35 [==============================] - 8s 227ms/step - loss: 0.1669 - accuracy: 0.9436 - val_loss: 0.0598 - val_accuracy: 0.9900\n",
      "Epoch 39/40\n",
      "35/35 [==============================] - ETA: 0s - loss: 0.1389 - accuracy: 0.9509WARNING:tensorflow:Can save best model only with val_acc available, skipping.\n",
      "35/35 [==============================] - 8s 225ms/step - loss: 0.1389 - accuracy: 0.9509 - val_loss: 0.0084 - val_accuracy: 1.0000\n",
      "Epoch 40/40\n",
      "35/35 [==============================] - ETA: 0s - loss: 0.1132 - accuracy: 0.9673WARNING:tensorflow:Can save best model only with val_acc available, skipping.\n",
      "35/35 [==============================] - 8s 231ms/step - loss: 0.1132 - accuracy: 0.9673 - val_loss: 0.0392 - val_accuracy: 0.9800\n"
     ]
    }
   ],
   "source": [
    "history = model.fit_generator(train_generator,\n",
    "                             epochs=40,\n",
    "                             verbose=1,\n",
    "                             validation_data=validation_generator,\n",
    "                             callbacks = [best_model])"
   ]
  },
  {
   "cell_type": "code",
   "execution_count": null,
   "metadata": {},
   "outputs": [],
   "source": []
  },
  {
   "cell_type": "markdown",
   "metadata": {},
   "source": [
    "## Visualize Performance results"
   ]
  },
  {
   "cell_type": "code",
   "execution_count": 95,
   "metadata": {},
   "outputs": [],
   "source": [
    "acc = history.history['accuracy']\n",
    "val_acc = history.history['val_accuracy']\n",
    "loss = history.history['loss']\n",
    "val_loss = history.history['val_loss']"
   ]
  },
  {
   "cell_type": "code",
   "execution_count": 96,
   "metadata": {},
   "outputs": [],
   "source": [
    "epochs = range(len(acc))"
   ]
  },
  {
   "cell_type": "code",
   "execution_count": 97,
   "metadata": {},
   "outputs": [
    {
     "data": {
      "image/png": "[encoded data removed]",
      "text/plain": [
       "<Figure size 1008x504 with 1 Axes>"
      ]
     },
     "metadata": {
      "needs_background": "light"
     },
     "output_type": "display_data"
    }
   ],
   "source": [
    "fig = plt.figure(figsize=(14,7))\n",
    "plt.plot(epochs, acc, 'r', label=\"Training Accuracy\")\n",
    "plt.plot(epochs, val_acc, 'b', label=\"Validation Accuracy\")\n",
    "plt.xlabel('Epoch')\n",
    "plt.ylabel('Accuracy')\n",
    "plt.title('Training and validation accuracy')\n",
    "plt.legend(loc='lower right')\n",
    "plt.show()"
   ]
  },
  {
   "cell_type": "code",
   "execution_count": 98,
   "metadata": {},
   "outputs": [
    {
     "data": {
      "text/plain": [
       "Text(0.5, 1.0, 'Training and validation loss')"
      ]
     },
     "execution_count": 98,
     "metadata": {},
     "output_type": "execute_result"
    },
    {
     "data": {
      "image/png": "[encoded data removed]",
      "text/plain": [
       "<Figure size 1008x504 with 1 Axes>"
      ]
     },
     "metadata": {
      "needs_background": "light"
     },
     "output_type": "display_data"
    }
   ],
   "source": [
    "fig2 = plt.figure(figsize = (14,7))\n",
    "plt.plot(epochs, loss, 'r', label=\"Training Loss\")\n",
    "plt.plot(epochs, val_loss, 'b', label=\"Validation Loss\")\n",
    "plt.legend(loc='Upper right')\n",
    "plt.xlabel('Epoch')\n",
    "plt.ylabel('Loss')\n",
    "plt.title('Training and validation loss')"
   ]
  },
  {
   "cell_type": "markdown",
   "metadata": {},
   "source": [
    "## Test Model Performance"
   ]
  },
  {
   "cell_type": "code",
   "execution_count": 154,
   "metadata": {},
   "outputs": [],
   "source": [
    "import pandas as pd\n",
    "import numpy as np\n",
    "from tensorflow.keras.utils import load_img, img_to_array"
   ]
  },
  {
   "cell_type": "code",
   "execution_count": 155,
   "metadata": {},
   "outputs": [],
   "source": [
    "def preprocess_image(path):\n",
    "    img = load_img(path, target_size = (img_height, img_width))\n",
    "    a = img_to_array(img)\n",
    "    a = np.expand_dims(a, axis=0)\n",
    "    a /= 255.\n",
    "    return a"
   ]
  },
  {
   "cell_type": "markdown",
   "metadata": {},
   "source": [
    "## Check Performance on test Data"
   ]
  },
  {
   "cell_type": "code",
   "execution_count": 232,
   "metadata": {},
   "outputs": [],
   "source": [
    "#read Test images dir and their labels\n",
    "test_images_dir = 'test/'\n",
    "test_df = pd.read_csv('test/test.csv')"
   ]
  },
  {
   "cell_type": "code",
   "execution_count": 233,
   "metadata": {},
   "outputs": [],
   "source": [
    "#put them in a list\n",
    "test_dfToList = test_df['Classes'].tolist()\n",
    "test_ids = [str(item) for item in test_dfToList]"
   ]
  },
  {
   "cell_type": "code",
   "execution_count": 234,
   "metadata": {},
   "outputs": [
    {
     "data": {
      "text/plain": [
       "['ES2T_left_lagan_1.jpg',\n",
       " 'ES2T_left_lagan_2.jpg',\n",
       " 'ES2T_left_lagan_3.jpg',\n",
       " 'ES2T_left_lagan_4.jpg',\n",
       " 'ES2T_left_lagan_5.jpg',\n",
       " 'ES2T_left_laxian_1.jpg',\n",
       " 'ES2T_left_laxian_2.jpg',\n",
       " 'ES2T_left_laxian_3.jpg',\n",
       " 'ES2T_left_laxian_4.jpg',\n",
       " 'ES2T_left_laxian_5.jpg',\n",
       " 'ES2T_right_lagan_1.jpg',\n",
       " 'ES2T_right_lagan_2.jpg',\n",
       " 'ES2T_right_lagan_3.jpg',\n",
       " 'ES2T_right_lagan_4.jpg',\n",
       " 'ES2T_right_laxian_1.jpg',\n",
       " 'ES2T_right_laxian_2.jpg',\n",
       " 'ES2T_right_laxian_3.jpg',\n",
       " 'ES2T_right_laxian_4.jpg',\n",
       " 'ES2V_left_laxian_1.jpg',\n",
       " 'ES2V_left_laxian_2.jpg',\n",
       " 'ES2V_left_laxian_3.jpg',\n",
       " 'ES2V_left_laxian_4.jpg',\n",
       " 'ES2V_left_laxian_5.jpg',\n",
       " 'ES2V_left_laxian_6.jpg',\n",
       " 'ES2V_right_laxian_1.jpg',\n",
       " 'ES2V_right_laxian_2.jpg',\n",
       " 'ES2V_right_laxian_3.jpg',\n",
       " 'ES2V_right_laxian_4.jpg']"
      ]
     },
     "execution_count": 234,
     "metadata": {},
     "output_type": "execute_result"
    }
   ],
   "source": [
    "test_ids"
   ]
  },
  {
   "cell_type": "code",
   "execution_count": 235,
   "metadata": {},
   "outputs": [
    {
     "data": {
      "text/plain": [
       "'test/'"
      ]
     },
     "execution_count": 235,
     "metadata": {},
     "output_type": "execute_result"
    }
   ],
   "source": [
    "test_images_dir"
   ]
  },
  {
   "cell_type": "code",
   "execution_count": 236,
   "metadata": {},
   "outputs": [],
   "source": [
    "test_images = [test_images_dir+item  for item in test_ids]"
   ]
  },
  {
   "cell_type": "code",
   "execution_count": 237,
   "metadata": {},
   "outputs": [
    {
     "data": {
      "text/plain": [
       "['test/ES2T_left_lagan_1.jpg',\n",
       " 'test/ES2T_left_lagan_2.jpg',\n",
       " 'test/ES2T_left_lagan_3.jpg',\n",
       " 'test/ES2T_left_lagan_4.jpg',\n",
       " 'test/ES2T_left_lagan_5.jpg',\n",
       " 'test/ES2T_left_laxian_1.jpg',\n",
       " 'test/ES2T_left_laxian_2.jpg',\n",
       " 'test/ES2T_left_laxian_3.jpg',\n",
       " 'test/ES2T_left_laxian_4.jpg',\n",
       " 'test/ES2T_left_laxian_5.jpg',\n",
       " 'test/ES2T_right_lagan_1.jpg',\n",
       " 'test/ES2T_right_lagan_2.jpg',\n",
       " 'test/ES2T_right_lagan_3.jpg',\n",
       " 'test/ES2T_right_lagan_4.jpg',\n",
       " 'test/ES2T_right_laxian_1.jpg',\n",
       " 'test/ES2T_right_laxian_2.jpg',\n",
       " 'test/ES2T_right_laxian_3.jpg',\n",
       " 'test/ES2T_right_laxian_4.jpg',\n",
       " 'test/ES2V_left_laxian_1.jpg',\n",
       " 'test/ES2V_left_laxian_2.jpg',\n",
       " 'test/ES2V_left_laxian_3.jpg',\n",
       " 'test/ES2V_left_laxian_4.jpg',\n",
       " 'test/ES2V_left_laxian_5.jpg',\n",
       " 'test/ES2V_left_laxian_6.jpg',\n",
       " 'test/ES2V_right_laxian_1.jpg',\n",
       " 'test/ES2V_right_laxian_2.jpg',\n",
       " 'test/ES2V_right_laxian_3.jpg',\n",
       " 'test/ES2V_right_laxian_4.jpg']"
      ]
     },
     "execution_count": 237,
     "metadata": {},
     "output_type": "execute_result"
    }
   ],
   "source": [
    " test_images"
   ]
  },
  {
   "cell_type": "code",
   "execution_count": null,
   "metadata": {},
   "outputs": [],
   "source": []
  },
  {
   "cell_type": "code",
   "execution_count": 258,
   "metadata": {},
   "outputs": [],
   "source": [
    "\n",
    "test_preprocessed_images = np.vstack([preprocess_image(fn) for fn in test_images])\n",
    "np.save('test/test_preproc_CNN.npy', test_preprocessed_images)"
   ]
  },
  {
   "cell_type": "code",
   "execution_count": 259,
   "metadata": {},
   "outputs": [
    {
     "name": "stdout",
     "output_type": "stream",
     "text": [
      "28/28 [==============================] - 0s 12ms/step\n"
     ]
    }
   ],
   "source": [
    "array = model.predict(test_preprocessed_images, batch_size=1, verbose=1)\n",
    "answer = np.argmax(array, axis=1)\n"
   ]
  },
  {
   "cell_type": "code",
   "execution_count": 260,
   "metadata": {},
   "outputs": [
    {
     "data": {
      "text/plain": [
       "array([0, 0, 0, 0, 5, 1, 1, 1, 1, 1, 2, 2, 2, 2, 3, 3, 3, 3, 4, 4, 4, 4,\n",
       "       4, 4, 5, 5, 5, 5], dtype=int64)"
      ]
     },
     "execution_count": 260,
     "metadata": {},
     "output_type": "execute_result"
    }
   ],
   "source": [
    "answer"
   ]
  },
  {
   "cell_type": "code",
   "execution_count": 261,
   "metadata": {},
   "outputs": [],
   "source": [
    "test_df = pd.read_csv('test/test.csv')\n",
    "y_true = test_df['Labels']\n",
    "y_pred = array\n"
   ]
  },
  {
   "cell_type": "code",
   "execution_count": 262,
   "metadata": {},
   "outputs": [
    {
     "data": {
      "text/plain": [
       "0     0\n",
       "1     0\n",
       "2     0\n",
       "3     0\n",
       "4     0\n",
       "5     1\n",
       "6     1\n",
       "7     1\n",
       "8     1\n",
       "9     1\n",
       "10    2\n",
       "11    2\n",
       "12    2\n",
       "13    2\n",
       "14    3\n",
       "15    3\n",
       "16    3\n",
       "17    3\n",
       "18    4\n",
       "19    4\n",
       "20    4\n",
       "21    4\n",
       "22    4\n",
       "23    4\n",
       "24    5\n",
       "25    5\n",
       "26    5\n",
       "27    5\n",
       "Name: Labels, dtype: int64"
      ]
     },
     "execution_count": 262,
     "metadata": {},
     "output_type": "execute_result"
    }
   ],
   "source": [
    "y_true"
   ]
  },
  {
   "cell_type": "code",
   "execution_count": 263,
   "metadata": {},
   "outputs": [],
   "source": [
    "from sklearn.metrics import log_loss\n",
    "from sklearn.metrics import confusion_matrix"
   ]
  },
  {
   "cell_type": "code",
   "execution_count": 264,
   "metadata": {},
   "outputs": [],
   "source": [
    "loss = log_loss(y_true, y_pred, eps=1e-15, normalize=True, sample_weight=None, labels=None)"
   ]
  },
  {
   "cell_type": "code",
   "execution_count": 265,
   "metadata": {},
   "outputs": [],
   "source": [
    "conf_mat = confusion_matrix(y_true, answer)"
   ]
  },
  {
   "cell_type": "code",
   "execution_count": 266,
   "metadata": {},
   "outputs": [
    {
     "data": {
      "text/plain": [
       "array([[4, 0, 0, 0, 0, 1],\n",
       "       [0, 5, 0, 0, 0, 0],\n",
       "       [0, 0, 4, 0, 0, 0],\n",
       "       [0, 0, 0, 4, 0, 0],\n",
       "       [0, 0, 0, 0, 6, 0],\n",
       "       [0, 0, 0, 0, 0, 4]], dtype=int64)"
      ]
     },
     "execution_count": 266,
     "metadata": {},
     "output_type": "execute_result"
    }
   ],
   "source": [
    "conf_mat"
   ]
  },
  {
   "cell_type": "code",
   "execution_count": 267,
   "metadata": {},
   "outputs": [],
   "source": [
    "train_dir = 'Images_dir/train/'\n"
   ]
  },
  {
   "cell_type": "code",
   "execution_count": 268,
   "metadata": {},
   "outputs": [],
   "source": [
    "classes = os.listdir(train_dir)"
   ]
  },
  {
   "cell_type": "code",
   "execution_count": 269,
   "metadata": {},
   "outputs": [
    {
     "data": {
      "text/plain": [
       "['ES2T_left_lagan',\n",
       " 'ES2T_left_laxian',\n",
       " 'ES2T_right_lagan',\n",
       " 'ES2T_right_laxian',\n",
       " 'ES2V_left_laxian',\n",
       " 'ES2V_right_laxian']"
      ]
     },
     "execution_count": 269,
     "metadata": {},
     "output_type": "execute_result"
    }
   ],
   "source": [
    "classes"
   ]
  },
  {
   "cell_type": "code",
   "execution_count": 270,
   "metadata": {},
   "outputs": [],
   "source": [
    "import itertools"
   ]
  },
  {
   "cell_type": "markdown",
   "metadata": {},
   "source": [
    "## Plot results"
   ]
  },
  {
   "cell_type": "code",
   "execution_count": 271,
   "metadata": {},
   "outputs": [],
   "source": [
    "def plot_confusion_matrix(cm, classes,\n",
    "                         normalize=False,\n",
    "                         title='Confusion matrix',\n",
    "                         cmap=plt.cm.Reds):\n",
    "    ## this function prints and plots the confusion matrix\n",
    "    #Normalization can be applied by setting Normalize=true\n",
    "    \n",
    "    plt.imshow(cm, interpolation='nearest', cmap=cmap)\n",
    "    plt.title(title)\n",
    "    plt.colorbar()\n",
    "    tick_marks = np.arange(len(classes))\n",
    "    plt.xticks(tick_marks, classes, rotation=45)\n",
    "    plt.yticks(tick_marks, classes)\n",
    "    \n",
    "    if normalize:\n",
    "        cm = cm.astype('float') / cm.sum(axis=1)[:, np.newaxis]\n",
    "        cm = cm.round(2)\n",
    "        #print('Normalized Confusion matrix')\n",
    "    else:\n",
    "        cm=cm\n",
    "        #pprint (confusion matrix without normaliz)\n",
    "        \n",
    "    thresh = cm.max() / 2.\n",
    "    for i, j in itertools.product(range(cm.shape[0]), range(cm.shape[1])):\n",
    "        plt.text(j, i, cm[i, j],\n",
    "                horizontalalignment=\"center\",\n",
    "                color=\"white\" if cm[i, j] > thresh else \"black\")\n",
    "        \n",
    "    plt.tight_layout()\n",
    "    plt.ylabel('True label')\n",
    "    plt.xlabel('Predicted label')"
   ]
  },
  {
   "cell_type": "code",
   "execution_count": 272,
   "metadata": {},
   "outputs": [],
   "source": [
    "np.set_printoptions(precision=2)\n"
   ]
  },
  {
   "cell_type": "code",
   "execution_count": 273,
   "metadata": {},
   "outputs": [
    {
     "data": {
      "image/png": "[encoded data removed]",
      "text/plain": [
       "<Figure size 720x720 with 2 Axes>"
      ]
     },
     "metadata": {
      "needs_background": "light"
     },
     "output_type": "display_data"
    }
   ],
   "source": [
    "fig1 = plt.figure(figsize=(10,10))\n",
    "plot_confusion_matrix(conf_mat, classes=classes, title='Confusion matrix without normalization')\n",
    "plt.show()"
   ]
  },
  {
   "cell_type": "code",
   "execution_count": null,
   "metadata": {},
   "outputs": [],
   "source": []
  },
  {
   "cell_type": "code",
   "execution_count": null,
   "metadata": {},
   "outputs": [],
   "source": []
  },
  {
   "cell_type": "code",
   "execution_count": null,
   "metadata": {},
   "outputs": [],
   "source": []
  },
  {
   "cell_type": "code",
   "execution_count": null,
   "metadata": {},
   "outputs": [],
   "source": []
  },
  {
   "cell_type": "code",
   "execution_count": null,
   "metadata": {},
   "outputs": [],
   "source": []
  },
  {
   "cell_type": "code",
   "execution_count": null,
   "metadata": {},
   "outputs": [],
   "source": []
  },
  {
   "cell_type": "code",
   "execution_count": null,
   "metadata": {},
   "outputs": [],
   "source": []
  },
  {
   "cell_type": "code",
   "execution_count": null,
   "metadata": {},
   "outputs": [],
   "source": []
  }
 ],
 "metadata": {
  "kernelspec": {
   "display_name": "Python 3",
   "language": "python",
   "name": "python3"
  },
  "language_info": {
   "codemirror_mode": {
    "name": "ipython",
    "version": 3
   },
   "file_extension": ".py",
   "mimetype": "text/x-python",
   "name": "python",
   "nbconvert_exporter": "python",
   "pygments_lexer": "ipython3",
   "version": "3.8.5"
  }
 },
 "nbformat": 4,
 "nbformat_minor": 4
}
